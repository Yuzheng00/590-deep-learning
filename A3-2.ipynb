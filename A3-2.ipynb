{
 "cells": [
  {
   "cell_type": "markdown",
   "metadata": {
    "id": "9EH_rAIHjOMR"
   },
   "source": [
    "# 1.Autoencoder"
   ]
  },
  {
   "cell_type": "code",
   "execution_count": 1,
   "metadata": {
    "id": "p7ljemkljOMR"
   },
   "outputs": [
    {
     "name": "stderr",
     "output_type": "stream",
     "text": [
      "Using TensorFlow backend.\n"
     ]
    }
   ],
   "source": [
    "import keras\n",
    "import tensorflow as tf\n",
    "from keras import layers\n",
    "from keras.datasets import mnist\n",
    "import numpy as np\n",
    "from keras.datasets import cifar10\n",
    "import tensorflow.keras as tfk\n",
    "from keras.layers import Input, Dense,Conv2D,MaxPooling2D,UpSampling2D\n",
    "from keras.layers import Activation, Dense, Flatten, Dropout\n",
    "from keras.models import Model,Sequential"
   ]
  },
  {
   "cell_type": "code",
   "execution_count": 3,
   "metadata": {
    "colab": {
     "base_uri": "https://localhost:8080/"
    },
    "id": "se9OeT0PjOMS",
    "outputId": "2143cb04-8649-4a08-dc78-df85f3a246da"
   },
   "outputs": [],
   "source": [
    "(x_train, y_train), (x_test,y_test) = cifar10.load_data()"
   ]
  },
  {
   "cell_type": "code",
   "execution_count": 4,
   "metadata": {
    "colab": {
     "base_uri": "https://localhost:8080/"
    },
    "id": "Z3qdFaZ5jOMS",
    "outputId": "cf4ea5c4-6637-452d-9fe8-2473ccbc5bc2"
   },
   "outputs": [
    {
     "name": "stdout",
     "output_type": "stream",
     "text": [
      "(50000, 32, 32, 3)\n",
      "(10000, 32, 32, 3)\n"
     ]
    }
   ],
   "source": [
    "x_train = x_train.astype('float32') / 255.\n",
    "x_test = x_test.astype('float32') / 255.\n",
    "x_train = x_train.reshape(x_train.shape[0], 32, 32, 3)  \n",
    "x_test = x_test.reshape(x_test.shape[0], 32, 32, 3)\n",
    "print(x_train.shape)\n",
    "print(x_test.shape)"
   ]
  },
  {
   "cell_type": "code",
   "execution_count": 5,
   "metadata": {
    "id": "15veFRjBlgpN"
   },
   "outputs": [],
   "source": [
    "input = Input(shape=(32, 32, 3)) \n",
    "x = Conv2D(32, (3, 3), activation='relu', padding='same')(input)\n",
    "x = MaxPooling2D((2, 2), padding='same')(x)\n",
    "x = Conv2D(32, (3, 3), activation='relu', padding='same')(x)\n",
    "encoded = MaxPooling2D((2, 2), padding='same')(x)\n",
    "x = Conv2D(32, (3, 3), activation='relu', padding='same')(encoded)\n",
    "x = UpSampling2D((2, 2))(x)\n",
    "x = Conv2D(32, (3, 3), activation='relu', padding='same')(x)\n",
    "x = UpSampling2D((2, 2))(x)\n",
    "decoded = Conv2D(3, (3, 3), activation='sigmoid', padding='same')(x)"
   ]
  },
  {
   "cell_type": "code",
   "execution_count": 6,
   "metadata": {
    "colab": {
     "base_uri": "https://localhost:8080/"
    },
    "id": "r8ST2br8oRdA",
    "outputId": "a2e297af-1e63-445b-82c0-ce844f8b9b35"
   },
   "outputs": [
    {
     "name": "stdout",
     "output_type": "stream",
     "text": [
      "Model: \"model_1\"\n",
      "_________________________________________________________________\n",
      "Layer (type)                 Output Shape              Param #   \n",
      "=================================================================\n",
      "input_1 (InputLayer)         (None, 32, 32, 3)         0         \n",
      "_________________________________________________________________\n",
      "conv2d_1 (Conv2D)            (None, 32, 32, 32)        896       \n",
      "_________________________________________________________________\n",
      "max_pooling2d_1 (MaxPooling2 (None, 16, 16, 32)        0         \n",
      "_________________________________________________________________\n",
      "conv2d_2 (Conv2D)            (None, 16, 16, 32)        9248      \n",
      "_________________________________________________________________\n",
      "max_pooling2d_2 (MaxPooling2 (None, 8, 8, 32)          0         \n",
      "_________________________________________________________________\n",
      "conv2d_3 (Conv2D)            (None, 8, 8, 32)          9248      \n",
      "_________________________________________________________________\n",
      "up_sampling2d_1 (UpSampling2 (None, 16, 16, 32)        0         \n",
      "_________________________________________________________________\n",
      "conv2d_4 (Conv2D)            (None, 16, 16, 32)        9248      \n",
      "_________________________________________________________________\n",
      "up_sampling2d_2 (UpSampling2 (None, 32, 32, 32)        0         \n",
      "_________________________________________________________________\n",
      "conv2d_5 (Conv2D)            (None, 32, 32, 3)         867       \n",
      "=================================================================\n",
      "Total params: 29,507\n",
      "Trainable params: 29,507\n",
      "Non-trainable params: 0\n",
      "_________________________________________________________________\n"
     ]
    }
   ],
   "source": [
    "#compile model\n",
    "autoencoder = Model(input, decoded)\n",
    "autoencoder.summary()\n",
    "autoencoder.compile(optimizer='adam', loss='binary_crossentropy')"
   ]
  },
  {
   "cell_type": "code",
   "execution_count": 7,
   "metadata": {
    "colab": {
     "base_uri": "https://localhost:8080/"
    },
    "id": "KCzACgzAodKK",
    "outputId": "6b331544-b149-4d56-a28e-7a27948ce239",
    "scrolled": false
   },
   "outputs": [
    {
     "name": "stdout",
     "output_type": "stream",
     "text": [
      "Train on 50000 samples, validate on 10000 samples\n",
      "Epoch 1/20\n",
      "50000/50000 [==============================] - 6s 121us/step - loss: 0.5787 - val_loss: 0.5650\n",
      "Epoch 2/20\n",
      "50000/50000 [==============================] - 4s 84us/step - loss: 0.5629 - val_loss: 0.5634\n",
      "Epoch 3/20\n",
      "50000/50000 [==============================] - 4s 86us/step - loss: 0.5608 - val_loss: 0.5610\n",
      "Epoch 4/20\n",
      "50000/50000 [==============================] - 4s 82us/step - loss: 0.5599 - val_loss: 0.5598\n",
      "Epoch 5/20\n",
      "50000/50000 [==============================] - 4s 81us/step - loss: 0.5589 - val_loss: 0.5591\n",
      "Epoch 6/20\n",
      "50000/50000 [==============================] - 4s 82us/step - loss: 0.5583 - val_loss: 0.5586\n",
      "Epoch 7/20\n",
      "50000/50000 [==============================] - 4s 82us/step - loss: 0.5578 - val_loss: 0.5583\n",
      "Epoch 8/20\n",
      "50000/50000 [==============================] - 4s 88us/step - loss: 0.5575 - val_loss: 0.5578\n",
      "Epoch 9/20\n",
      "50000/50000 [==============================] - 4s 84us/step - loss: 0.5571 - val_loss: 0.5577\n",
      "Epoch 10/20\n",
      "50000/50000 [==============================] - 4s 82us/step - loss: 0.5568 - val_loss: 0.5576\n",
      "Epoch 11/20\n",
      "50000/50000 [==============================] - 4s 82us/step - loss: 0.5566 - val_loss: 0.5586\n",
      "Epoch 12/20\n",
      "50000/50000 [==============================] - 4s 82us/step - loss: 0.5563 - val_loss: 0.5571\n",
      "Epoch 13/20\n",
      "50000/50000 [==============================] - 4s 82us/step - loss: 0.5561 - val_loss: 0.5570\n",
      "Epoch 14/20\n",
      "50000/50000 [==============================] - 4s 82us/step - loss: 0.5560 - val_loss: 0.5566\n",
      "Epoch 15/20\n",
      "50000/50000 [==============================] - 4s 81us/step - loss: 0.5558 - val_loss: 0.5564\n",
      "Epoch 16/20\n",
      "50000/50000 [==============================] - 4s 82us/step - loss: 0.5557 - val_loss: 0.5563\n",
      "Epoch 17/20\n",
      "50000/50000 [==============================] - 4s 81us/step - loss: 0.5555 - val_loss: 0.5564\n",
      "Epoch 18/20\n",
      "50000/50000 [==============================] - 4s 82us/step - loss: 0.5553 - val_loss: 0.5560\n",
      "Epoch 19/20\n",
      "50000/50000 [==============================] - 4s 82us/step - loss: 0.5552 - val_loss: 0.5559\n",
      "Epoch 20/20\n",
      "50000/50000 [==============================] - 4s 88us/step - loss: 0.5551 - val_loss: 0.5557\n"
     ]
    }
   ],
   "source": [
    "result = autoencoder.fit(x_train,x_train,epochs=20,batch_size=128,shuffle=True,validation_data=(x_test, x_test))"
   ]
  },
  {
   "cell_type": "code",
   "execution_count": 8,
   "metadata": {
    "colab": {
     "base_uri": "https://localhost:8080/",
     "height": 183
    },
    "id": "27FeQvHkpCdR",
    "outputId": "de634c8f-3935-4e93-a40b-f1c36ad2f231"
   },
   "outputs": [
    {
     "data": {
      "text/plain": [
       "<Figure size 2000x400 with 20 Axes>"
      ]
     },
     "metadata": {},
     "output_type": "display_data"
    }
   ],
   "source": [
    "import matplotlib.pyplot as plt\n",
    "\n",
    "n = 10  # How many digits we will display\n",
    "plt.figure(figsize=(20, 4))\n",
    "\n",
    "for i in range(n):\n",
    "    # Display original\n",
    "    ax = plt.subplot(2, n, i + 1)\n",
    "    plt.imshow(x_test[i])\n",
    "    plt.gray()\n",
    "    ax.get_xaxis().set_visible(False)\n",
    "    ax.get_yaxis().set_visible(False)\n",
    "\n",
    "    # Display reconstruction\n",
    "    ax = plt.subplot(2, n, i + 1 + n)\n",
    "    plt.imshow(autoencoder.predict(x_test)[i])\n",
    "    plt.gray()\n",
    "    ax.get_xaxis().set_visible(False)\n",
    "    ax.get_yaxis().set_visible(False)\n",
    "    \n",
    "plt.show()"
   ]
  },
  {
   "cell_type": "code",
   "execution_count": null,
   "metadata": {},
   "outputs": [],
   "source": []
  },
  {
   "cell_type": "markdown",
   "metadata": {
    "id": "X2kCQl5kpusZ"
   },
   "source": [
    "# Deep CNN"
   ]
  },
  {
   "cell_type": "code",
   "execution_count": 9,
   "metadata": {
    "colab": {
     "base_uri": "https://localhost:8080/"
    },
    "id": "7SLFePvPjOMT",
    "outputId": "56418ea9-e58e-4248-d3c5-84842cfa0c38"
   },
   "outputs": [
    {
     "name": "stdout",
     "output_type": "stream",
     "text": [
      "Model: \"sequential\"\n",
      "_________________________________________________________________\n",
      "Layer (type)                 Output Shape              Param #   \n",
      "=================================================================\n",
      "conv2d (Conv2D)              (None, 30, 30, 64)        1792      \n",
      "_________________________________________________________________\n",
      "max_pooling2d (MaxPooling2D) (None, 15, 15, 64)        0         \n",
      "_________________________________________________________________\n",
      "dropout (Dropout)            (None, 15, 15, 64)        0         \n",
      "_________________________________________________________________\n",
      "conv2d_1 (Conv2D)            (None, 13, 13, 32)        18464     \n",
      "_________________________________________________________________\n",
      "max_pooling2d_1 (MaxPooling2 (None, 6, 6, 32)          0         \n",
      "_________________________________________________________________\n",
      "dropout_1 (Dropout)          (None, 6, 6, 32)          0         \n",
      "_________________________________________________________________\n",
      "flatten (Flatten)            (None, 1152)              0         \n",
      "_________________________________________________________________\n",
      "dense (Dense)                (None, 32)                36896     \n",
      "_________________________________________________________________\n",
      "dropout_2 (Dropout)          (None, 32)                0         \n",
      "_________________________________________________________________\n",
      "dense_1 (Dense)              (None, 10)                330       \n",
      "=================================================================\n",
      "Total params: 57,482\n",
      "Trainable params: 57,482\n",
      "Non-trainable params: 0\n",
      "_________________________________________________________________\n"
     ]
    }
   ],
   "source": [
    "#build model\n",
    "\n",
    "tfkl = tfk.layers\n",
    "model = tfk.Sequential()\n",
    "model.add(tfkl.Conv2D(filters=64, kernel_size=3, strides=1,padding='valid', activation='relu', input_shape=(32,32,3))) \n",
    "model.add(tfkl.MaxPooling2D(pool_size=(2,2)))\n",
    "model.add(tfkl.Dropout(0.2))\n",
    "model.add(tfkl.Conv2D(filters=32, kernel_size=3, strides=1,padding='valid', activation='relu'))\n",
    "model.add(tfkl.MaxPooling2D(pool_size=(2, 2)))\n",
    "model.add(tfkl.Dropout(0.2))\n",
    "model.add(tfkl.Flatten())\n",
    "model.add(tfkl.Dense(32, activation='relu'))\n",
    "model.add(tfkl.Dropout(0.2))\n",
    "model.add(tfkl.Dense(10, activation='softmax'))\n",
    "model.summary()"
   ]
  },
  {
   "cell_type": "code",
   "execution_count": 10,
   "metadata": {
    "colab": {
     "base_uri": "https://localhost:8080/",
     "height": 447
    },
    "id": "x3bbUKhVjOMT",
    "outputId": "53498e5d-84e2-44a9-cf45-6416c2081917",
    "scrolled": true
   },
   "outputs": [],
   "source": [
    "model.compile(optimizer=tfk.optimizers.RMSprop(),loss='categorical_crossentropy',metrics=['accuracy'])"
   ]
  },
  {
   "cell_type": "code",
   "execution_count": 11,
   "metadata": {
    "id": "ShYLaVhkjOMT"
   },
   "outputs": [],
   "source": [
    "from keras.utils import to_categorical\n",
    "y_train_label = to_categorical(y_train)\n",
    "y_test_label = to_categorical(y_test)"
   ]
  },
  {
   "cell_type": "code",
   "execution_count": 12,
   "metadata": {
    "id": "IkG6a6VejOMT"
   },
   "outputs": [
    {
     "name": "stdout",
     "output_type": "stream",
     "text": [
      "Train on 50000 samples, validate on 10000 samples\n",
      "Epoch 1/10\n",
      "50000/50000 [==============================] - 6s 110us/sample - loss: 1.7277 - accuracy: 0.3683 - val_loss: 1.6053 - val_accuracy: 0.4545\n",
      "Epoch 2/10\n",
      "50000/50000 [==============================] - 5s 99us/sample - loss: 1.4090 - accuracy: 0.4951 - val_loss: 1.2533 - val_accuracy: 0.5536\n",
      "Epoch 3/10\n",
      "50000/50000 [==============================] - 5s 94us/sample - loss: 1.2954 - accuracy: 0.5426 - val_loss: 1.1558 - val_accuracy: 0.5929\n",
      "Epoch 4/10\n",
      "50000/50000 [==============================] - 5s 94us/sample - loss: 1.2240 - accuracy: 0.5695 - val_loss: 1.0767 - val_accuracy: 0.6240\n",
      "Epoch 5/10\n",
      "50000/50000 [==============================] - 5s 94us/sample - loss: 1.1807 - accuracy: 0.5844 - val_loss: 1.0875 - val_accuracy: 0.6252\n",
      "Epoch 6/10\n",
      "50000/50000 [==============================] - 5s 93us/sample - loss: 1.1551 - accuracy: 0.5966 - val_loss: 1.1506 - val_accuracy: 0.6011\n",
      "Epoch 7/10\n",
      "50000/50000 [==============================] - 5s 92us/sample - loss: 1.1355 - accuracy: 0.6052 - val_loss: 1.0366 - val_accuracy: 0.6368\n",
      "Epoch 8/10\n",
      "50000/50000 [==============================] - 5s 91us/sample - loss: 1.1165 - accuracy: 0.6131 - val_loss: 1.0305 - val_accuracy: 0.6423\n",
      "Epoch 9/10\n",
      "50000/50000 [==============================] - 5s 90us/sample - loss: 1.1125 - accuracy: 0.6175 - val_loss: 1.0043 - val_accuracy: 0.6568\n",
      "Epoch 10/10\n",
      "50000/50000 [==============================] - 5s 93us/sample - loss: 1.1089 - accuracy: 0.6170 - val_loss: 1.0649 - val_accuracy: 0.6321\n"
     ]
    }
   ],
   "source": [
    "result = model.fit(x_train,y_train_label,\n",
    "        batch_size = 32,\n",
    "        epochs=10,\n",
    "        validation_data=(x_test, y_test_label),\n",
    "        shuffle=True)"
   ]
  },
  {
   "cell_type": "code",
   "execution_count": 13,
   "metadata": {
    "id": "-fP07DldjOMT"
   },
   "outputs": [
    {
     "data": {
      "text/plain": [
       "<matplotlib.legend.Legend at 0x17dc4cebbc8>"
      ]
     },
     "execution_count": 13,
     "metadata": {},
     "output_type": "execute_result"
    },
    {
     "data": {
      "image/png": "[encoded data removed]",
      "text/plain": [
       "<Figure size 432x288 with 1 Axes>"
      ]
     },
     "metadata": {
      "needs_background": "light"
     },
     "output_type": "display_data"
    }
   ],
   "source": [
    "plt.plot(result.history['loss'])\n",
    "plt.plot(result.history['val_loss'])\n",
    "plt.legend(labels=['traindata','testdata'])"
   ]
  },
  {
   "cell_type": "code",
   "execution_count": 14,
   "metadata": {
    "id": "2aTFPMsTweIh"
   },
   "outputs": [
    {
     "data": {
      "text/plain": [
       "Text(0, 0.5, 'accuracy')"
      ]
     },
     "execution_count": 14,
     "metadata": {},
     "output_type": "execute_result"
    },
    {
     "data": {
      "image/png": "[encoded data removed]",
      "text/plain": [
       "<Figure size 432x288 with 1 Axes>"
      ]
     },
     "metadata": {
      "needs_background": "light"
     },
     "output_type": "display_data"
    }
   ],
   "source": [
    "plt.plot(result.history['accuracy'])\n",
    "plt.plot(result.history['val_accuracy'])\n",
    "plt.legend(labels=['traindata','testdata'])\n",
    "plt.xlabel('epoch')\n",
    "plt.ylabel('accuracy')"
   ]
  },
  {
   "cell_type": "markdown",
   "metadata": {
    "id": "sCcQk16Qwo8m"
   },
   "source": [
    "In Deep CNN, I use kenel size (3,3), strides=1,padding='valid', activation='relu'"
   ]
  },
  {
   "cell_type": "markdown",
   "metadata": {
    "id": "k3Puy6PbxDP1"
   },
   "source": [
    "# 2.2 Transfer learning"
   ]
  },
  {
   "cell_type": "code",
   "execution_count": 15,
   "metadata": {
    "id": "CSHtQw9jw_2z"
   },
   "outputs": [],
   "source": [
    "from tensorflow.keras.applications import VGG16"
   ]
  },
  {
   "cell_type": "code",
   "execution_count": 16,
   "metadata": {
    "id": "nkWrYkSaxLKj"
   },
   "outputs": [
    {
     "name": "stdout",
     "output_type": "stream",
     "text": [
      "Model: \"vgg16\"\n",
      "_________________________________________________________________\n",
      "Layer (type)                 Output Shape              Param #   \n",
      "=================================================================\n",
      "input_2 (InputLayer)         [(None, 32, 32, 3)]       0         \n",
      "_________________________________________________________________\n",
      "block1_conv1 (Conv2D)        (None, 32, 32, 64)        1792      \n",
      "_________________________________________________________________\n",
      "block1_conv2 (Conv2D)        (None, 32, 32, 64)        36928     \n",
      "_________________________________________________________________\n",
      "block1_pool (MaxPooling2D)   (None, 16, 16, 64)        0         \n",
      "_________________________________________________________________\n",
      "block2_conv1 (Conv2D)        (None, 16, 16, 128)       73856     \n",
      "_________________________________________________________________\n",
      "block2_conv2 (Conv2D)        (None, 16, 16, 128)       147584    \n",
      "_________________________________________________________________\n",
      "block2_pool (MaxPooling2D)   (None, 8, 8, 128)         0         \n",
      "_________________________________________________________________\n",
      "block3_conv1 (Conv2D)        (None, 8, 8, 256)         295168    \n",
      "_________________________________________________________________\n",
      "block3_conv2 (Conv2D)        (None, 8, 8, 256)         590080    \n",
      "_________________________________________________________________\n",
      "block3_conv3 (Conv2D)        (None, 8, 8, 256)         590080    \n",
      "_________________________________________________________________\n",
      "block3_pool (MaxPooling2D)   (None, 4, 4, 256)         0         \n",
      "_________________________________________________________________\n",
      "block4_conv1 (Conv2D)        (None, 4, 4, 512)         1180160   \n",
      "_________________________________________________________________\n",
      "block4_conv2 (Conv2D)        (None, 4, 4, 512)         2359808   \n",
      "_________________________________________________________________\n",
      "block4_conv3 (Conv2D)        (None, 4, 4, 512)         2359808   \n",
      "_________________________________________________________________\n",
      "block4_pool (MaxPooling2D)   (None, 2, 2, 512)         0         \n",
      "_________________________________________________________________\n",
      "block5_conv1 (Conv2D)        (None, 2, 2, 512)         2359808   \n",
      "_________________________________________________________________\n",
      "block5_conv2 (Conv2D)        (None, 2, 2, 512)         2359808   \n",
      "_________________________________________________________________\n",
      "block5_conv3 (Conv2D)        (None, 2, 2, 512)         2359808   \n",
      "_________________________________________________________________\n",
      "block5_pool (MaxPooling2D)   (None, 1, 1, 512)         0         \n",
      "=================================================================\n",
      "Total params: 14,714,688\n",
      "Trainable params: 14,714,688\n",
      "Non-trainable params: 0\n",
      "_________________________________________________________________\n"
     ]
    }
   ],
   "source": [
    "conv_base = VGG16(weights = 'imagenet', include_top = False, input_shape = (32,32,3))\n",
    "conv_base.summary()"
   ]
  },
  {
   "cell_type": "code",
   "execution_count": 17,
   "metadata": {
    "id": "qUngIJpmxx0w"
   },
   "outputs": [
    {
     "name": "stdout",
     "output_type": "stream",
     "text": [
      "Model: \"sequential_1\"\n",
      "_________________________________________________________________\n",
      "Layer (type)                 Output Shape              Param #   \n",
      "=================================================================\n",
      "vgg16 (Model)                (None, 1, 1, 512)         14714688  \n",
      "_________________________________________________________________\n",
      "flatten_1 (Flatten)          (None, 512)               0         \n",
      "_________________________________________________________________\n",
      "dense_2 (Dense)              (None, 32)                16416     \n",
      "_________________________________________________________________\n",
      "dropout_3 (Dropout)          (None, 32)                0         \n",
      "_________________________________________________________________\n",
      "dense_3 (Dense)              (None, 10)                330       \n",
      "=================================================================\n",
      "Total params: 14,731,434\n",
      "Trainable params: 14,731,434\n",
      "Non-trainable params: 0\n",
      "_________________________________________________________________\n"
     ]
    }
   ],
   "source": [
    "model2 = tfk.Sequential()\n",
    "model2.add(conv_base)\n",
    "model2.add(tfkl.Flatten())\n",
    "model2.add(tfkl.Dense(32, activation='relu'))\n",
    "model2.add(tfkl.Dropout(0.2))\n",
    "model2.add(tfkl.Dense(10, activation='softmax'))\n",
    "model2.summary()"
   ]
  },
  {
   "cell_type": "code",
   "execution_count": 18,
   "metadata": {
    "id": "gSMmhU862sOF"
   },
   "outputs": [
    {
     "name": "stdout",
     "output_type": "stream",
     "text": [
      "Train on 50000 samples, validate on 10000 samples\n",
      "Epoch 1/30\n",
      "50000/50000 [==============================] - 5s 92us/sample - loss: 1.0985 - accuracy: 0.6221 - val_loss: 1.0798 - val_accuracy: 0.6354\n",
      "Epoch 2/30\n",
      "50000/50000 [==============================] - 5s 93us/sample - loss: 1.0900 - accuracy: 0.6273 - val_loss: 1.1880 - val_accuracy: 0.6090\n",
      "Epoch 3/30\n",
      "50000/50000 [==============================] - 5s 92us/sample - loss: 1.0859 - accuracy: 0.6296 - val_loss: 1.0192 - val_accuracy: 0.6502\n",
      "Epoch 4/30\n",
      "50000/50000 [==============================] - 5s 96us/sample - loss: 1.0954 - accuracy: 0.6272 - val_loss: 1.0760 - val_accuracy: 0.6255\n",
      "Epoch 5/30\n",
      "50000/50000 [==============================] - 5s 92us/sample - loss: 1.0893 - accuracy: 0.6293 - val_loss: 1.1199 - val_accuracy: 0.6132\n",
      "Epoch 6/30\n",
      "50000/50000 [==============================] - 4s 90us/sample - loss: 1.0922 - accuracy: 0.6285 - val_loss: 1.1759 - val_accuracy: 0.6044\n",
      "Epoch 7/30\n",
      "50000/50000 [==============================] - 5s 93us/sample - loss: 1.0943 - accuracy: 0.6297 - val_loss: 1.0023 - val_accuracy: 0.6535\n",
      "Epoch 8/30\n",
      "50000/50000 [==============================] - 5s 92us/sample - loss: 1.0967 - accuracy: 0.6309 - val_loss: 1.0534 - val_accuracy: 0.6607\n",
      "Epoch 9/30\n",
      "50000/50000 [==============================] - 5s 91us/sample - loss: 1.0931 - accuracy: 0.6320 - val_loss: 1.0614 - val_accuracy: 0.6491\n",
      "Epoch 10/30\n",
      "50000/50000 [==============================] - 5s 93us/sample - loss: 1.0986 - accuracy: 0.6287 - val_loss: 1.3232 - val_accuracy: 0.5264\n",
      "Epoch 11/30\n",
      "50000/50000 [==============================] - 5s 103us/sample - loss: 1.1032 - accuracy: 0.6251 - val_loss: 0.9784 - val_accuracy: 0.6724\n",
      "Epoch 12/30\n",
      "50000/50000 [==============================] - 6s 118us/sample - loss: 1.1104 - accuracy: 0.6276 - val_loss: 1.2485 - val_accuracy: 0.5657\n",
      "Epoch 13/30\n",
      "50000/50000 [==============================] - 6s 129us/sample - loss: 1.1059 - accuracy: 0.6279 - val_loss: 0.9952 - val_accuracy: 0.6737\n",
      "Epoch 14/30\n",
      "50000/50000 [==============================] - 5s 106us/sample - loss: 1.1063 - accuracy: 0.6311 - val_loss: 1.1052 - val_accuracy: 0.6320\n",
      "Epoch 15/30\n",
      "50000/50000 [==============================] - 5s 110us/sample - loss: 1.1124 - accuracy: 0.6259 - val_loss: 1.0917 - val_accuracy: 0.6408\n",
      "Epoch 16/30\n",
      "50000/50000 [==============================] - 5s 108us/sample - loss: 1.1101 - accuracy: 0.6280 - val_loss: 1.0777 - val_accuracy: 0.6391\n",
      "Epoch 17/30\n",
      "50000/50000 [==============================] - 6s 112us/sample - loss: 1.1131 - accuracy: 0.6272 - val_loss: 1.0659 - val_accuracy: 0.6390\n",
      "Epoch 18/30\n",
      "50000/50000 [==============================] - 7s 140us/sample - loss: 1.1152 - accuracy: 0.6243 - val_loss: 1.1851 - val_accuracy: 0.6113\n",
      "Epoch 19/30\n",
      "50000/50000 [==============================] - 7s 145us/sample - loss: 1.1155 - accuracy: 0.6229 - val_loss: 1.0446 - val_accuracy: 0.6550\n",
      "Epoch 20/30\n",
      "50000/50000 [==============================] - 7s 144us/sample - loss: 1.1223 - accuracy: 0.6220 - val_loss: 1.0455 - val_accuracy: 0.6476\n",
      "Epoch 21/30\n",
      "50000/50000 [==============================] - 7s 139us/sample - loss: 1.1387 - accuracy: 0.6196 - val_loss: 1.1021 - val_accuracy: 0.6258\n",
      "Epoch 22/30\n",
      "50000/50000 [==============================] - 6s 119us/sample - loss: 1.1349 - accuracy: 0.6194 - val_loss: 1.1416 - val_accuracy: 0.6125\n",
      "Epoch 23/30\n",
      "50000/50000 [==============================] - 6s 110us/sample - loss: 1.1362 - accuracy: 0.6178 - val_loss: 1.0657 - val_accuracy: 0.6372\n",
      "Epoch 24/30\n",
      "50000/50000 [==============================] - 6s 112us/sample - loss: 1.1499 - accuracy: 0.6149 - val_loss: 1.1142 - val_accuracy: 0.6116\n",
      "Epoch 25/30\n",
      "50000/50000 [==============================] - 5s 109us/sample - loss: 1.1450 - accuracy: 0.6179 - val_loss: 1.1160 - val_accuracy: 0.6312\n",
      "Epoch 26/30\n",
      "50000/50000 [==============================] - 7s 137us/sample - loss: 1.1479 - accuracy: 0.6164 - val_loss: 1.1750 - val_accuracy: 0.6010\n",
      "Epoch 27/30\n",
      "50000/50000 [==============================] - 5s 104us/sample - loss: 1.1495 - accuracy: 0.6177 - val_loss: 1.0853 - val_accuracy: 0.6305\n",
      "Epoch 28/30\n",
      "50000/50000 [==============================] - 5s 100us/sample - loss: 1.1614 - accuracy: 0.6126 - val_loss: 1.5345 - val_accuracy: 0.4301\n",
      "Epoch 29/30\n",
      "50000/50000 [==============================] - 5s 104us/sample - loss: 1.1657 - accuracy: 0.6097 - val_loss: 1.2311 - val_accuracy: 0.5919\n",
      "Epoch 30/30\n",
      "50000/50000 [==============================] - 9s 176us/sample - loss: 1.1678 - accuracy: 0.6106 - val_loss: 1.3177 - val_accuracy: 0.5379\n"
     ]
    }
   ],
   "source": [
    "conv_base.trainable = False\n",
    "model2.compile(optimizer='adam',loss='categorical_crossentropy', metrics=['accuracy'])\n",
    "result=model.fit(x_train, y_train_label, epochs=30, batch_size=32,validation_data=(x_test,y_test_label))"
   ]
  },
  {
   "cell_type": "code",
   "execution_count": 19,
   "metadata": {
    "id": "zzq-kVjS3_Cv"
   },
   "outputs": [
    {
     "name": "stdout",
     "output_type": "stream",
     "text": [
      "10000/10000 [==============================] - 1s 100us/sample - loss: 1.3177 - accuracy: 0.5379\n",
      "50000/50000 [==============================] - 4s 89us/sample - loss: 1.2459 - accuracy: 0.5653\n",
      "[1.3177366138458253, 0.5379]\n",
      "[1.2459361793518067, 0.56526]\n"
     ]
    }
   ],
   "source": [
    "test_score = model.evaluate(x_test, y_test_label)\n",
    "train_score = model.evaluate(x_train, y_train_label)\n",
    "print(test_score)\n",
    "print(train_score)"
   ]
  },
  {
   "cell_type": "code",
   "execution_count": 20,
   "metadata": {
    "id": "e7q9VMV64I9H"
   },
   "outputs": [
    {
     "data": {
      "text/plain": [
       "Text(0, 0.5, 'accuracy')"
      ]
     },
     "execution_count": 20,
     "metadata": {},
     "output_type": "execute_result"
    },
    {
     "data": {
      "image/png": "[encoded data removed]",
      "text/plain": [
       "<Figure size 432x288 with 1 Axes>"
      ]
     },
     "metadata": {
      "needs_background": "light"
     },
     "output_type": "display_data"
    }
   ],
   "source": [
    "plt.plot(result.history['accuracy'])\n",
    "plt.plot(result.history['val_accuracy'])\n",
    "plt.legend(labels=['traindata','testdata'])\n",
    "plt.xlabel('epoch')\n",
    "plt.ylabel('accuracy')"
   ]
  },
  {
   "cell_type": "markdown",
   "metadata": {
    "id": "rLTPd49I4Uln"
   },
   "source": [
    "# Text Classificatiom"
   ]
  },
  {
   "cell_type": "code",
   "execution_count": 21,
   "metadata": {},
   "outputs": [],
   "source": [
    "import pandas as pd\n",
    "from keras.preprocessing.text import Tokenizer\n",
    "from string import printable\n",
    "from keras import regularizers\n",
    "from sklearn.model_selection import train_test_split\n",
    "from keras.preprocessing import sequence\n",
    "from keras.preprocessing.sequence import pad_sequences\n",
    "from keras.preprocessing.text import Tokenizer\n",
    "from sklearn.model_selection import train_test_split"
   ]
  },
  {
   "cell_type": "code",
   "execution_count": 22,
   "metadata": {
    "id": "6GvcbTGl4TpO"
   },
   "outputs": [],
   "source": [
    "text= pd.read_csv('SPAM_detection.csv')"
   ]
  },
  {
   "cell_type": "code",
   "execution_count": 23,
   "metadata": {},
   "outputs": [
    {
     "data": {
      "text/html": [
       "<div>\n",
       "<style scoped>\n",
       "    .dataframe tbody tr th:only-of-type {\n",
       "        vertical-align: middle;\n",
       "    }\n",
       "\n",
       "    .dataframe tbody tr th {\n",
       "        vertical-align: top;\n",
       "    }\n",
       "\n",
       "    .dataframe thead th {\n",
       "        text-align: right;\n",
       "    }\n",
       "</style>\n",
       "<table border=\"1\" class=\"dataframe\">\n",
       "  <thead>\n",
       "    <tr style=\"text-align: right;\">\n",
       "      <th></th>\n",
       "      <th>Message</th>\n",
       "      <th>category_val</th>\n",
       "    </tr>\n",
       "  </thead>\n",
       "  <tbody>\n",
       "    <tr>\n",
       "      <td>0</td>\n",
       "      <td>Go until jurong point, crazy.. Available only ...</td>\n",
       "      <td>0</td>\n",
       "    </tr>\n",
       "    <tr>\n",
       "      <td>1</td>\n",
       "      <td>Ok lar... Joking wif u oni...</td>\n",
       "      <td>0</td>\n",
       "    </tr>\n",
       "    <tr>\n",
       "      <td>2</td>\n",
       "      <td>Free entry in 2 a wkly comp to win FA Cup fina...</td>\n",
       "      <td>1</td>\n",
       "    </tr>\n",
       "    <tr>\n",
       "      <td>3</td>\n",
       "      <td>U dun say so early hor... U c already then say...</td>\n",
       "      <td>0</td>\n",
       "    </tr>\n",
       "    <tr>\n",
       "      <td>4</td>\n",
       "      <td>Nah I don't think he goes to usf, he lives aro...</td>\n",
       "      <td>0</td>\n",
       "    </tr>\n",
       "    <tr>\n",
       "      <td>...</td>\n",
       "      <td>...</td>\n",
       "      <td>...</td>\n",
       "    </tr>\n",
       "    <tr>\n",
       "      <td>5567</td>\n",
       "      <td>This is the 2nd time we have tried 2 contact u...</td>\n",
       "      <td>1</td>\n",
       "    </tr>\n",
       "    <tr>\n",
       "      <td>5568</td>\n",
       "      <td>Will ü b going to esplanade fr home?</td>\n",
       "      <td>0</td>\n",
       "    </tr>\n",
       "    <tr>\n",
       "      <td>5569</td>\n",
       "      <td>Pity, * was in mood for that. So...any other s...</td>\n",
       "      <td>0</td>\n",
       "    </tr>\n",
       "    <tr>\n",
       "      <td>5570</td>\n",
       "      <td>The guy did some bitching but I acted like i'd...</td>\n",
       "      <td>0</td>\n",
       "    </tr>\n",
       "    <tr>\n",
       "      <td>5571</td>\n",
       "      <td>Rofl. Its true to its name</td>\n",
       "      <td>0</td>\n",
       "    </tr>\n",
       "  </tbody>\n",
       "</table>\n",
       "<p>5572 rows × 2 columns</p>\n",
       "</div>"
      ],
      "text/plain": [
       "                                                Message  category_val\n",
       "0     Go until jurong point, crazy.. Available only ...             0\n",
       "1                         Ok lar... Joking wif u oni...             0\n",
       "2     Free entry in 2 a wkly comp to win FA Cup fina...             1\n",
       "3     U dun say so early hor... U c already then say...             0\n",
       "4     Nah I don't think he goes to usf, he lives aro...             0\n",
       "...                                                 ...           ...\n",
       "5567  This is the 2nd time we have tried 2 contact u...             1\n",
       "5568               Will ü b going to esplanade fr home?             0\n",
       "5569  Pity, * was in mood for that. So...any other s...             0\n",
       "5570  The guy did some bitching but I acted like i'd...             0\n",
       "5571                         Rofl. Its true to its name             0\n",
       "\n",
       "[5572 rows x 2 columns]"
      ]
     },
     "execution_count": 23,
     "metadata": {},
     "output_type": "execute_result"
    }
   ],
   "source": [
    "text"
   ]
  },
  {
   "cell_type": "code",
   "execution_count": 24,
   "metadata": {},
   "outputs": [],
   "source": [
    "message=text['Message']\n",
    "value=text['category_val']\n",
    "tokenizer = Tokenizer()\n",
    "tokenizer.fit_on_texts(message)"
   ]
  },
  {
   "cell_type": "code",
   "execution_count": 25,
   "metadata": {},
   "outputs": [],
   "source": [
    "x=np.asarray(message)\n",
    "y=np.asarray(value)"
   ]
  },
  {
   "cell_type": "code",
   "execution_count": 26,
   "metadata": {},
   "outputs": [],
   "source": [
    "tt=pad_sequences(tokenizer.texts_to_sequences(x),padding='post')\n",
    "indice = np.arange(tt.shape[0])\n",
    "np.random.shuffle(indice)\n",
    "textdata=tt[indice]\n",
    "title=y[indice]"
   ]
  },
  {
   "cell_type": "code",
   "execution_count": 27,
   "metadata": {},
   "outputs": [],
   "source": [
    "x_train, x_test, y_train, y_test = train_test_split(textdata, title, test_size=0.25)"
   ]
  },
  {
   "cell_type": "code",
   "execution_count": 28,
   "metadata": {},
   "outputs": [
    {
     "data": {
      "text/plain": [
       "(4179, 189)"
      ]
     },
     "execution_count": 28,
     "metadata": {},
     "output_type": "execute_result"
    }
   ],
   "source": [
    "x_train.shape"
   ]
  },
  {
   "cell_type": "code",
   "execution_count": 29,
   "metadata": {},
   "outputs": [],
   "source": [
    "model=tfk.Sequential()\n",
    "model.add(tfkl.Embedding(len(tokenizer.word_index)+1, 16, input_length=189))\n",
    "model.add(tfkl.LSTM(128,return_sequences=True))\n",
    "model.add(tfkl.GlobalMaxPool1D())\n",
    "model.add(tfkl.Dropout(0.3))\n",
    "model.add(tfkl.Dense(64,activation=\"relu\"))\n",
    "model.add(tfkl.Dropout(0.3))\n",
    "model.add(tfkl.Dense(32,activation=\"relu\"))\n",
    "model.add(tfkl.Dropout(0.3))\n",
    "model.add(tfkl.Dense(1,activation=\"sigmoid\"))"
   ]
  },
  {
   "cell_type": "code",
   "execution_count": 30,
   "metadata": {
    "scrolled": true
   },
   "outputs": [
    {
     "name": "stdout",
     "output_type": "stream",
     "text": [
      "Model: \"sequential_2\"\n",
      "_________________________________________________________________\n",
      "Layer (type)                 Output Shape              Param #   \n",
      "=================================================================\n",
      "embedding (Embedding)        (None, 189, 16)           144080    \n",
      "_________________________________________________________________\n",
      "lstm (LSTM)                  (None, 189, 128)          74240     \n",
      "_________________________________________________________________\n",
      "global_max_pooling1d (Global (None, 128)               0         \n",
      "_________________________________________________________________\n",
      "dropout_4 (Dropout)          (None, 128)               0         \n",
      "_________________________________________________________________\n",
      "dense_4 (Dense)              (None, 64)                8256      \n",
      "_________________________________________________________________\n",
      "dropout_5 (Dropout)          (None, 64)                0         \n",
      "_________________________________________________________________\n",
      "dense_5 (Dense)              (None, 32)                2080      \n",
      "_________________________________________________________________\n",
      "dropout_6 (Dropout)          (None, 32)                0         \n",
      "_________________________________________________________________\n",
      "dense_6 (Dense)              (None, 1)                 33        \n",
      "=================================================================\n",
      "Total params: 228,689\n",
      "Trainable params: 228,689\n",
      "Non-trainable params: 0\n",
      "_________________________________________________________________\n"
     ]
    }
   ],
   "source": [
    "model.compile(loss='binary_crossentropy',optimizer='adam',metrics=['accuracy'])\n",
    "model.summary()"
   ]
  },
  {
   "cell_type": "code",
   "execution_count": 31,
   "metadata": {},
   "outputs": [
    {
     "name": "stdout",
     "output_type": "stream",
     "text": [
      "Train on 4179 samples, validate on 1393 samples\n",
      "Epoch 1/20\n",
      " 160/4179 [>.............................] - ETA: 43s - loss: 0.6811 - accuracy: 0.7500 - val_loss: 0.6506 - val_accuracy: 0.8557Epoch 2/20\n",
      " 160/4179 [>.............................] - ETA: 12s - loss: 0.5970 - accuracy: 0.7812 - val_loss: 0.4305 - val_accuracy: 0.8557Epoch 3/20\n",
      " 160/4179 [>.............................] - ETA: 12s - loss: 0.4460 - accuracy: 0.8625 - val_loss: 0.4140 - val_accuracy: 0.8557Epoch 4/20\n",
      " 160/4179 [>.............................] - ETA: 13s - loss: 0.5065 - accuracy: 0.8062 - val_loss: 0.4125 - val_accuracy: 0.8557Epoch 5/20\n",
      " 160/4179 [>.............................] - ETA: 13s - loss: 0.4050 - accuracy: 0.8562 - val_loss: 0.4132 - val_accuracy: 0.8557Epoch 6/20\n",
      " 160/4179 [>.............................] - ETA: 13s - loss: 0.3792 - accuracy: 0.8875 - val_loss: 0.4163 - val_accuracy: 0.8557Epoch 7/20\n",
      " 160/4179 [>.............................] - ETA: 12s - loss: 0.3404 - accuracy: 0.8938 - val_loss: 0.4214 - val_accuracy: 0.8557Epoch 8/20\n",
      " 160/4179 [>.............................] - ETA: 12s - loss: 0.4112 - accuracy: 0.8750 - val_loss: 0.4173 - val_accuracy: 0.8557Epoch 9/20\n",
      " 160/4179 [>.............................] - ETA: 12s - loss: 0.4590 - accuracy: 0.8500 - val_loss: 0.4108 - val_accuracy: 0.8557Epoch 10/20\n",
      " 160/4179 [>.............................] - ETA: 12s - loss: 0.4670 - accuracy: 0.8562 - val_loss: 0.4166 - val_accuracy: 0.8557Epoch 11/20\n",
      " 160/4179 [>.............................] - ETA: 12s - loss: 0.3254 - accuracy: 0.9187 - val_loss: 0.4113 - val_accuracy: 0.8557Epoch 12/20\n",
      " 160/4179 [>.............................] - ETA: 12s - loss: 0.3177 - accuracy: 0.9062 - val_loss: 0.4491 - val_accuracy: 0.8557Epoch 13/20\n",
      " 160/4179 [>.............................] - ETA: 12s - loss: 0.4774 - accuracy: 0.8562 - val_loss: 0.4064 - val_accuracy: 0.8557Epoch 14/20\n",
      " 160/4179 [>.............................] - ETA: 12s - loss: 0.5170 - accuracy: 0.8062 - val_loss: 0.3666 - val_accuracy: 0.8557Epoch 15/20\n",
      " 160/4179 [>.............................] - ETA: 13s - loss: 0.3289 - accuracy: 0.8938 - val_loss: 0.3960 - val_accuracy: 0.8557Epoch 16/20\n",
      " 160/4179 [>.............................] - ETA: 12s - loss: 0.3106 - accuracy: 0.8875 - val_loss: 0.3411 - val_accuracy: 0.8557Epoch 17/20\n",
      " 160/4179 [>.............................] - ETA: 12s - loss: 0.2839 - accuracy: 0.9125 - val_loss: 0.3316 - val_accuracy: 0.8557Epoch 18/20\n",
      " 160/4179 [>.............................] - ETA: 12s - loss: 0.3199 - accuracy: 0.8625 - val_loss: 0.3364 - val_accuracy: 0.8557Epoch 19/20\n",
      " 160/4179 [>.............................] - ETA: 13s - loss: 0.3252 - accuracy: 0.8813 - val_loss: 0.3379 - val_accuracy: 0.8557Epoch 20/20\n",
      " 160/4179 [>.............................] - ETA: 13s - loss: 0.3508 - accuracy: 0.8813 - val_loss: 0.3342 - val_accuracy: 0.8988"
     ]
    }
   ],
   "source": [
    "result_text = model.fit(x_train, y_train,validation_data=(x_test,y_test),epochs=20,steps_per_epoch=10,batch_size=16)"
   ]
  },
  {
   "cell_type": "code",
   "execution_count": 32,
   "metadata": {},
   "outputs": [
    {
     "name": "stdout",
     "output_type": "stream",
     "text": [
      "1393/1393 [==============================] - 0s 171us/sample - loss: 0.3342 - accuracy: 0.8988\n",
      "4179/4179 [==============================] - 1s 159us/sample - loss: 0.2838 - accuracy: 0.9296\n",
      "[0.3341908468052542, 0.89877963]\n",
      "[0.2838093528381858, 0.9296482]\n"
     ]
    }
   ],
   "source": [
    "test_score = model.evaluate(x_test, y_test)\n",
    "train_score = model.evaluate(x_train, y_train)\n",
    "print(test_score)\n",
    "print(train_score)"
   ]
  },
  {
   "cell_type": "code",
   "execution_count": 33,
   "metadata": {},
   "outputs": [
    {
     "data": {
      "text/plain": [
       "<matplotlib.legend.Legend at 0x17d99ca1f48>"
      ]
     },
     "execution_count": 33,
     "metadata": {},
     "output_type": "execute_result"
    },
    {
     "data": {
      "image/png": "[encoded data removed]",
      "text/plain": [
       "<Figure size 432x288 with 1 Axes>"
      ]
     },
     "metadata": {
      "needs_background": "light"
     },
     "output_type": "display_data"
    }
   ],
   "source": [
    "plt.plot(result_text.history[\"accuracy\"])\n",
    "plt.plot(result_text.history[\"val_accuracy\"])\n",
    "plt.legend(labels=[\"train\", \"test\"])"
   ]
  },
  {
   "cell_type": "markdown",
   "metadata": {},
   "source": [
    "# 3.2 CNN"
   ]
  },
  {
   "cell_type": "code",
   "execution_count": 34,
   "metadata": {},
   "outputs": [
    {
     "name": "stdout",
     "output_type": "stream",
     "text": [
      "Model: \"sequential_3\"\n",
      "_________________________________________________________________\n",
      "Layer (type)                 Output Shape              Param #   \n",
      "=================================================================\n",
      "embedding_1 (Embedding)      (None, 189, 32)           288160    \n",
      "_________________________________________________________________\n",
      "conv1d (Conv1D)              (None, 185, 64)           10304     \n",
      "_________________________________________________________________\n",
      "global_max_pooling1d_1 (Glob (None, 64)                0         \n",
      "_________________________________________________________________\n",
      "dense_7 (Dense)              (None, 10)                650       \n",
      "_________________________________________________________________\n",
      "dropout_7 (Dropout)          (None, 10)                0         \n",
      "_________________________________________________________________\n",
      "dense_8 (Dense)              (None, 1)                 11        \n",
      "=================================================================\n",
      "Total params: 299,125\n",
      "Trainable params: 299,125\n",
      "Non-trainable params: 0\n",
      "_________________________________________________________________\n"
     ]
    }
   ],
   "source": [
    "cnntext = tfk.Sequential()\n",
    "cnntext.add(tfkl.Embedding(len(tokenizer.word_index)+1, 32, input_length=189))\n",
    "cnntext.add(tfkl.Conv1D(64, 5, activation='relu'))\n",
    "cnntext.add(tfkl.GlobalMaxPooling1D())\n",
    "cnntext.add(tfkl.Dense(10, activation='relu'))\n",
    "cnntext.add(tfkl.Dropout(0.3))\n",
    "cnntext.add(tfkl.Dense(1, activation='sigmoid'))\n",
    "cnntext.compile(optimizer='adam',loss='binary_crossentropy',metrics=['accuracy'])\n",
    "cnntext.summary()"
   ]
  },
  {
   "cell_type": "code",
   "execution_count": 35,
   "metadata": {},
   "outputs": [
    {
     "name": "stdout",
     "output_type": "stream",
     "text": [
      "Train on 4179 samples, validate on 1393 samples\n",
      "Epoch 1/20\n",
      "4179/4179 [==============================] - 1s 195us/sample - loss: 0.6687 - accuracy: 0.8071 - val_loss: 0.6326 - val_accuracy: 0.8557\n",
      "Epoch 2/20\n",
      "4179/4179 [==============================] - 0s 33us/sample - loss: 0.6098 - accuracy: 0.8696 - val_loss: 0.5715 - val_accuracy: 0.8557\n",
      "Epoch 3/20\n",
      "4179/4179 [==============================] - 0s 29us/sample - loss: 0.5469 - accuracy: 0.8693 - val_loss: 0.5094 - val_accuracy: 0.8557\n",
      "Epoch 4/20\n",
      "4179/4179 [==============================] - 0s 29us/sample - loss: 0.4872 - accuracy: 0.8693 - val_loss: 0.4535 - val_accuracy: 0.8557\n",
      "Epoch 5/20\n",
      "4179/4179 [==============================] - 0s 30us/sample - loss: 0.4356 - accuracy: 0.8693 - val_loss: 0.4135 - val_accuracy: 0.8557\n",
      "Epoch 6/20\n",
      "4179/4179 [==============================] - 0s 30us/sample - loss: 0.4042 - accuracy: 0.8693 - val_loss: 0.3945 - val_accuracy: 0.8557\n",
      "Epoch 7/20\n",
      "4179/4179 [==============================] - 0s 31us/sample - loss: 0.3935 - accuracy: 0.8693 - val_loss: 0.3882 - val_accuracy: 0.8557\n",
      "Epoch 8/20\n",
      "4179/4179 [==============================] - 0s 29us/sample - loss: 0.3834 - accuracy: 0.8693 - val_loss: 0.3777 - val_accuracy: 0.8557\n",
      "Epoch 9/20\n",
      "4179/4179 [==============================] - 0s 34us/sample - loss: 0.3721 - accuracy: 0.8686 - val_loss: 0.3599 - val_accuracy: 0.8557\n",
      "Epoch 10/20\n",
      "4179/4179 [==============================] - 0s 31us/sample - loss: 0.3455 - accuracy: 0.8682 - val_loss: 0.3351 - val_accuracy: 0.8557\n",
      "Epoch 11/20\n",
      "4179/4179 [==============================] - 0s 42us/sample - loss: 0.3157 - accuracy: 0.8698 - val_loss: 0.3040 - val_accuracy: 0.8557\n",
      "Epoch 12/20\n",
      "4179/4179 [==============================] - 0s 50us/sample - loss: 0.2831 - accuracy: 0.8760 - val_loss: 0.2700 - val_accuracy: 0.8600\n",
      "Epoch 13/20\n",
      "4179/4179 [==============================] - 0s 47us/sample - loss: 0.2459 - accuracy: 0.9026 - val_loss: 0.2326 - val_accuracy: 0.9038\n",
      "Epoch 14/20\n",
      "4179/4179 [==============================] - 0s 50us/sample - loss: 0.2091 - accuracy: 0.9371 - val_loss: 0.1948 - val_accuracy: 0.9361\n",
      "Epoch 15/20\n",
      "4179/4179 [==============================] - 0s 48us/sample - loss: 0.1714 - accuracy: 0.9560 - val_loss: 0.1619 - val_accuracy: 0.9526\n",
      "Epoch 16/20\n",
      "4179/4179 [==============================] - 0s 46us/sample - loss: 0.1423 - accuracy: 0.9675 - val_loss: 0.1372 - val_accuracy: 0.9591\n",
      "Epoch 17/20\n",
      "4179/4179 [==============================] - 0s 46us/sample - loss: 0.1166 - accuracy: 0.9734 - val_loss: 0.1178 - val_accuracy: 0.9663\n",
      "Epoch 18/20\n",
      "4179/4179 [==============================] - 0s 36us/sample - loss: 0.0980 - accuracy: 0.9785 - val_loss: 0.1049 - val_accuracy: 0.9691\n",
      "Epoch 19/20\n",
      "4179/4179 [==============================] - 0s 37us/sample - loss: 0.0868 - accuracy: 0.9749 - val_loss: 0.0963 - val_accuracy: 0.9713\n",
      "Epoch 20/20\n",
      "4179/4179 [==============================] - 0s 41us/sample - loss: 0.0726 - accuracy: 0.9806 - val_loss: 0.0894 - val_accuracy: 0.9727\n"
     ]
    }
   ],
   "source": [
    "resultstext = cnntext.fit(x_train,y_train,validation_data=(x_test,y_test),epochs=20,batch_size=1024)\n"
   ]
  },
  {
   "cell_type": "code",
   "execution_count": 36,
   "metadata": {},
   "outputs": [
    {
     "data": {
      "text/plain": [
       "<matplotlib.legend.Legend at 0x17d9c396288>"
      ]
     },
     "execution_count": 36,
     "metadata": {},
     "output_type": "execute_result"
    },
    {
     "data": {
      "image/png": "[encoded data removed]",
      "text/plain": [
       "<Figure size 432x288 with 1 Axes>"
      ]
     },
     "metadata": {
      "needs_background": "light"
     },
     "output_type": "display_data"
    }
   ],
   "source": [
    "plt.plot(resultstext.history[\"accuracy\"])\n",
    "plt.plot(resultstext.history[\"val_accuracy\"])\n",
    "plt.legend(labels=[\"train\", \"test\"])"
   ]
  },
  {
   "cell_type": "markdown",
   "metadata": {},
   "source": [
    "# 3.3 ROC"
   ]
  },
  {
   "cell_type": "code",
   "execution_count": 37,
   "metadata": {},
   "outputs": [],
   "source": [
    "from sklearn.metrics import roc_curve, auc"
   ]
  },
  {
   "cell_type": "code",
   "execution_count": 38,
   "metadata": {},
   "outputs": [],
   "source": [
    "rnn_pred = cnntext.predict(x_test)"
   ]
  },
  {
   "cell_type": "code",
   "execution_count": 39,
   "metadata": {},
   "outputs": [],
   "source": [
    "fpr = dict()\n",
    "tpr = dict()\n",
    "roc_auc = dict()\n",
    "for i in range(2):\n",
    "    fpr[i], tpr[i], _ = roc_curve(y_test, rnn_pred)\n",
    "    roc_auc[i] = auc(fpr[i], tpr[i])"
   ]
  },
  {
   "cell_type": "code",
   "execution_count": 40,
   "metadata": {},
   "outputs": [
    {
     "data": {
      "image/png": "[encoded data removed]",
      "text/plain": [
       "<Figure size 432x288 with 1 Axes>"
      ]
     },
     "metadata": {
      "needs_background": "light"
     },
     "output_type": "display_data"
    }
   ],
   "source": [
    "plt.figure()\n",
    "plt.plot(fpr[0], tpr[0], color='pink', label='ROC curve' % roc_auc[0])\n",
    "plt.plot([0, 1], [0, 1], color='black')\n",
    "plt.xlabel('FPR')\n",
    "plt.ylabel('TPR')\n",
    "plt.title('Roc of Rnn')\n",
    "plt.legend(loc=\"lower right\")\n",
    "plt.show()"
   ]
  },
  {
   "cell_type": "code",
   "execution_count": 41,
   "metadata": {},
   "outputs": [],
   "source": [
    "cnn_pred = cnntext.predict(x_test)"
   ]
  },
  {
   "cell_type": "code",
   "execution_count": 42,
   "metadata": {},
   "outputs": [],
   "source": [
    "fpr = dict()\n",
    "tpr = dict()\n",
    "roc_auc = dict()\n",
    "for i in range(2):\n",
    "    fpr[i], tpr[i], _ = roc_curve(y_test, cnn_pred)\n",
    "    roc_auc[i] = auc(fpr[i], tpr[i])"
   ]
  },
  {
   "cell_type": "code",
   "execution_count": 43,
   "metadata": {},
   "outputs": [
    {
     "data": {
      "image/png": "[encoded data removed]",
      "text/plain": [
       "<Figure size 432x288 with 1 Axes>"
      ]
     },
     "metadata": {
      "needs_background": "light"
     },
     "output_type": "display_data"
    }
   ],
   "source": [
    "plt.figure()\n",
    "plt.plot(fpr[0], tpr[0], color='pink', label='ROC curve' % roc_auc[0])\n",
    "plt.plot([0, 1], [0, 1], color='black')\n",
    "plt.xlabel('FPR')\n",
    "plt.ylabel('TPR')\n",
    "plt.title('Roc of Cnn')\n",
    "plt.legend(loc=\"lower right\")\n",
    "plt.show()"
   ]
  },
  {
   "cell_type": "code",
   "execution_count": null,
   "metadata": {},
   "outputs": [],
   "source": []
  }
 ],
 "metadata": {
  "colab": {
   "name": "A3.ipynb",
   "provenance": []
  },
  "kernelspec": {
   "display_name": "Python 3",
   "language": "python",
   "name": "python3"
  },
  "language_info": {
   "codemirror_mode": {
    "name": "ipython",
    "version": 3
   },
   "file_extension": ".py",
   "mimetype": "text/x-python",
   "name": "python",
   "nbconvert_exporter": "python",
   "pygments_lexer": "ipython3",
   "version": "3.7.3"
  }
 },
 "nbformat": 4,
 "nbformat_minor": 1
}
